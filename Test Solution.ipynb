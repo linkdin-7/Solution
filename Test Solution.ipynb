{
 "cells": [
  {
   "cell_type": "code",
   "execution_count": 1,
   "metadata": {},
   "outputs": [],
   "source": [
    "import pandas as pd\n",
    "import numpy as np"
   ]
  },
  {
   "cell_type": "code",
   "execution_count": 2,
   "metadata": {},
   "outputs": [],
   "source": [
    "df = pd.read_csv(\"input/main.csv\")"
   ]
  },
  {
   "cell_type": "code",
   "execution_count": 7,
   "metadata": {},
   "outputs": [
    {
     "data": {
      "text/plain": [
       "array(['Switzerland', 'Hong Kong', 'USA (CA)', 'Italy', 'Austria', 'UK',\n",
       "       'Netherlands', 'USA (MA)', 'New Zealand', 'USA (NJ)', 'USA (NY)',\n",
       "       'Australia', 'USA (RI)', 'Spain', 'USA (CT)', 'USA (TX)',\n",
       "       'Germany', 'USA (OH)', 'Belgium', 'France', 'Singapore',\n",
       "       'USA (FL)', 'USA (IL)', 'USA (DC)', 'USA (WA)', 'USA (IN)',\n",
       "       'China', 'USA (NV)', 'USA (CO)', 'Canada', 'Portugal', 'USA (MN)',\n",
       "       'Japan', 'Luxembourg', 'USA (MI)', 'USA (MO)',\n",
       "       'United Arab Emirates', 'Taiwan', 'USA (VA)', 'USA (OR)',\n",
       "       'USA (TN)', 'USA (PA)'], dtype=object)"
      ]
     },
     "execution_count": 7,
     "metadata": {},
     "output_type": "execute_result"
    }
   ],
   "source": [
    "df['COUNTRY'].unique()"
   ]
  },
  {
   "cell_type": "code",
   "execution_count": 3,
   "metadata": {},
   "outputs": [
    {
     "data": {
      "text/html": [
       "<div>\n",
       "<style scoped>\n",
       "    .dataframe tbody tr th:only-of-type {\n",
       "        vertical-align: middle;\n",
       "    }\n",
       "\n",
       "    .dataframe tbody tr th {\n",
       "        vertical-align: top;\n",
       "    }\n",
       "\n",
       "    .dataframe thead th {\n",
       "        text-align: right;\n",
       "    }\n",
       "</style>\n",
       "<table border=\"1\" class=\"dataframe\">\n",
       "  <thead>\n",
       "    <tr style=\"text-align: right;\">\n",
       "      <th></th>\n",
       "      <th>SKU</th>\n",
       "      <th>DESCRIPTION</th>\n",
       "      <th>YEAR</th>\n",
       "      <th>CAPACITY</th>\n",
       "      <th>URL</th>\n",
       "      <th>PRICE</th>\n",
       "      <th>SELLER_INFORMATION</th>\n",
       "      <th>OFFER_DESCRIPTION</th>\n",
       "      <th>COUNTRY</th>\n",
       "    </tr>\n",
       "  </thead>\n",
       "  <tbody>\n",
       "    <tr>\n",
       "      <td>0</td>\n",
       "      <td>11331</td>\n",
       "      <td>Barbaresco,Angelo Gaja</td>\n",
       "      <td>1990</td>\n",
       "      <td>750ml</td>\n",
       "      <td>https://www.wine-searcher.com/find/barbaresco+...</td>\n",
       "      <td>$295.00</td>\n",
       "      <td>TopWines Switzerland SA</td>\n",
       "      <td>1990Barbaresco Gaja Angelo</td>\n",
       "      <td>Switzerland</td>\n",
       "    </tr>\n",
       "    <tr>\n",
       "      <td>1</td>\n",
       "      <td>11331</td>\n",
       "      <td>Barbaresco,Angelo Gaja</td>\n",
       "      <td>1990</td>\n",
       "      <td>750ml</td>\n",
       "      <td>https://www.wine-searcher.com/find/barbaresco+...</td>\n",
       "      <td>$324.62</td>\n",
       "      <td>Vintage Grand Cru</td>\n",
       "      <td>Gaja Barbaresco1990</td>\n",
       "      <td>Hong Kong</td>\n",
       "    </tr>\n",
       "    <tr>\n",
       "      <td>2</td>\n",
       "      <td>11331</td>\n",
       "      <td>Barbaresco,Angelo Gaja</td>\n",
       "      <td>1990</td>\n",
       "      <td>750ml</td>\n",
       "      <td>https://www.wine-searcher.com/find/barbaresco+...</td>\n",
       "      <td>$329.00</td>\n",
       "      <td>The Redd Collection</td>\n",
       "      <td>1990Barbaresco,Angelo Gaja</td>\n",
       "      <td>USA (CA)</td>\n",
       "    </tr>\n",
       "    <tr>\n",
       "      <td>3</td>\n",
       "      <td>11331</td>\n",
       "      <td>Barbaresco,Angelo Gaja</td>\n",
       "      <td>1990</td>\n",
       "      <td>750ml</td>\n",
       "      <td>https://www.wine-searcher.com/find/barbaresco+...</td>\n",
       "      <td>$338.68</td>\n",
       "      <td>Wine Walker (HK) Limited</td>\n",
       "      <td>Gaja Barbaresco,1990,Italy,Piedmont</td>\n",
       "      <td>Hong Kong</td>\n",
       "    </tr>\n",
       "    <tr>\n",
       "      <td>4</td>\n",
       "      <td>11331</td>\n",
       "      <td>Barbaresco,Angelo Gaja</td>\n",
       "      <td>1990</td>\n",
       "      <td>750ml</td>\n",
       "      <td>https://www.wine-searcher.com/find/barbaresco+...</td>\n",
       "      <td>$396.83</td>\n",
       "      <td>Enoteca Properzio</td>\n",
       "      <td>Barbaresco Gaja19900.75lt.</td>\n",
       "      <td>Italy</td>\n",
       "    </tr>\n",
       "  </tbody>\n",
       "</table>\n",
       "</div>"
      ],
      "text/plain": [
       "     SKU             DESCRIPTION  YEAR CAPACITY  \\\n",
       "0  11331  Barbaresco,Angelo Gaja  1990    750ml   \n",
       "1  11331  Barbaresco,Angelo Gaja  1990    750ml   \n",
       "2  11331  Barbaresco,Angelo Gaja  1990    750ml   \n",
       "3  11331  Barbaresco,Angelo Gaja  1990    750ml   \n",
       "4  11331  Barbaresco,Angelo Gaja  1990    750ml   \n",
       "\n",
       "                                                 URL    PRICE  \\\n",
       "0  https://www.wine-searcher.com/find/barbaresco+...  $295.00   \n",
       "1  https://www.wine-searcher.com/find/barbaresco+...  $324.62   \n",
       "2  https://www.wine-searcher.com/find/barbaresco+...  $329.00   \n",
       "3  https://www.wine-searcher.com/find/barbaresco+...  $338.68   \n",
       "4  https://www.wine-searcher.com/find/barbaresco+...  $396.83   \n",
       "\n",
       "         SELLER_INFORMATION                    OFFER_DESCRIPTION      COUNTRY  \n",
       "0   TopWines Switzerland SA           1990Barbaresco Gaja Angelo  Switzerland  \n",
       "1         Vintage Grand Cru                  Gaja Barbaresco1990    Hong Kong  \n",
       "2       The Redd Collection           1990Barbaresco,Angelo Gaja     USA (CA)  \n",
       "3  Wine Walker (HK) Limited  Gaja Barbaresco,1990,Italy,Piedmont    Hong Kong  \n",
       "4         Enoteca Properzio           Barbaresco Gaja19900.75lt.        Italy  "
      ]
     },
     "execution_count": 3,
     "metadata": {},
     "output_type": "execute_result"
    }
   ],
   "source": [
    "df.head()"
   ]
  },
  {
   "cell_type": "code",
   "execution_count": 10,
   "metadata": {},
   "outputs": [],
   "source": [
    "df_filter = df.loc[df.COUNTRY.str.startswith('USA')]"
   ]
  },
  {
   "cell_type": "code",
   "execution_count": 11,
   "metadata": {},
   "outputs": [
    {
     "data": {
      "text/plain": [
       "SKU                   3030\n",
       "DESCRIPTION           3030\n",
       "YEAR                  3030\n",
       "CAPACITY              3030\n",
       "URL                   3030\n",
       "PRICE                 3030\n",
       "SELLER_INFORMATION    3030\n",
       "OFFER_DESCRIPTION     3030\n",
       "COUNTRY               3030\n",
       "dtype: int64"
      ]
     },
     "execution_count": 11,
     "metadata": {},
     "output_type": "execute_result"
    }
   ],
   "source": [
    "df_filter.count()"
   ]
  },
  {
   "cell_type": "code",
   "execution_count": 12,
   "metadata": {},
   "outputs": [],
   "source": [
    "df_filter.to_csv('output/filteredCountry.csv')"
   ]
  },
  {
   "cell_type": "code",
   "execution_count": 13,
   "metadata": {},
   "outputs": [],
   "source": [
    "df = pd.read_csv(\"output/filteredCountry.csv\")"
   ]
  },
  {
   "cell_type": "code",
   "execution_count": 14,
   "metadata": {},
   "outputs": [],
   "source": [
    "def convert_val(val):\n",
    "    \"\"\"\n",
    "    Convert the string number value to a float\n",
    "     - Remove $\n",
    "     - Remove ?\n",
    "     - Remove commas\n",
    "     - Convert to float type\n",
    "    \"\"\"\n",
    "    new_val = val.replace(',','').replace('$', '').replace('?','')\n",
    "    return float(new_val)"
   ]
  },
  {
   "cell_type": "code",
   "execution_count": 15,
   "metadata": {},
   "outputs": [
    {
     "name": "stdout",
     "output_type": "stream",
     "text": [
      "<class 'pandas.core.frame.DataFrame'>\n",
      "RangeIndex: 3030 entries, 0 to 3029\n",
      "Data columns (total 10 columns):\n",
      "Unnamed: 0            3030 non-null int64\n",
      "SKU                   3030 non-null int64\n",
      "DESCRIPTION           3030 non-null object\n",
      "YEAR                  3030 non-null int64\n",
      "CAPACITY              3030 non-null object\n",
      "URL                   3030 non-null object\n",
      "PRICE                 3030 non-null float64\n",
      "SELLER_INFORMATION    3030 non-null object\n",
      "OFFER_DESCRIPTION     3030 non-null object\n",
      "COUNTRY               3030 non-null object\n",
      "dtypes: float64(1), int64(3), object(6)\n",
      "memory usage: 236.8+ KB\n"
     ]
    }
   ],
   "source": [
    "df['PRICE'] = df['PRICE'].apply(convert_val)\n",
    "df.info()"
   ]
  },
  {
   "cell_type": "code",
   "execution_count": 16,
   "metadata": {},
   "outputs": [
    {
     "data": {
      "text/html": [
       "<div>\n",
       "<style scoped>\n",
       "    .dataframe tbody tr th:only-of-type {\n",
       "        vertical-align: middle;\n",
       "    }\n",
       "\n",
       "    .dataframe tbody tr th {\n",
       "        vertical-align: top;\n",
       "    }\n",
       "\n",
       "    .dataframe thead th {\n",
       "        text-align: right;\n",
       "    }\n",
       "</style>\n",
       "<table border=\"1\" class=\"dataframe\">\n",
       "  <thead>\n",
       "    <tr style=\"text-align: right;\">\n",
       "      <th></th>\n",
       "      <th>Unnamed: 0</th>\n",
       "      <th>SKU</th>\n",
       "      <th>DESCRIPTION</th>\n",
       "      <th>YEAR</th>\n",
       "      <th>CAPACITY</th>\n",
       "      <th>URL</th>\n",
       "      <th>PRICE</th>\n",
       "      <th>SELLER_INFORMATION</th>\n",
       "      <th>OFFER_DESCRIPTION</th>\n",
       "      <th>COUNTRY</th>\n",
       "    </tr>\n",
       "  </thead>\n",
       "  <tbody>\n",
       "    <tr>\n",
       "      <td>0</td>\n",
       "      <td>2</td>\n",
       "      <td>11331</td>\n",
       "      <td>Barbaresco,Angelo Gaja</td>\n",
       "      <td>1990</td>\n",
       "      <td>750ml</td>\n",
       "      <td>https://www.wine-searcher.com/find/barbaresco+...</td>\n",
       "      <td>329.00</td>\n",
       "      <td>The Redd Collection</td>\n",
       "      <td>1990Barbaresco,Angelo Gaja</td>\n",
       "      <td>USA (CA)</td>\n",
       "    </tr>\n",
       "    <tr>\n",
       "      <td>1</td>\n",
       "      <td>6</td>\n",
       "      <td>11332</td>\n",
       "      <td>Barbaresco,Angelo Gaja</td>\n",
       "      <td>2010</td>\n",
       "      <td>750ml</td>\n",
       "      <td>https://www.wine-searcher.com/find/barbaresco+...</td>\n",
       "      <td>175.00</td>\n",
       "      <td>The Redd Collection</td>\n",
       "      <td>2010Barbaresco,Angelo Gaja</td>\n",
       "      <td>USA (CA)</td>\n",
       "    </tr>\n",
       "    <tr>\n",
       "      <td>2</td>\n",
       "      <td>18</td>\n",
       "      <td>11333</td>\n",
       "      <td>Barbaresco,Costa Russi,Angelo Gaja</td>\n",
       "      <td>2009</td>\n",
       "      <td>750ml</td>\n",
       "      <td>https://www.wine-searcher.com/find/barbaresco+...</td>\n",
       "      <td>304.00</td>\n",
       "      <td>The Redd Collection</td>\n",
       "      <td>2009Barbaresco,Costa Russi,Angelo Gaja</td>\n",
       "      <td>USA (CA)</td>\n",
       "    </tr>\n",
       "    <tr>\n",
       "      <td>3</td>\n",
       "      <td>22</td>\n",
       "      <td>11333</td>\n",
       "      <td>Barbaresco,Costa Russi,Angelo Gaja</td>\n",
       "      <td>2009</td>\n",
       "      <td>750ml</td>\n",
       "      <td>https://www.wine-searcher.com/find/barbaresco+...</td>\n",
       "      <td>359.99</td>\n",
       "      <td>Lynnway Liquor Mart</td>\n",
       "      <td>Gaja Costa Russi Barbaresco20092009750ml</td>\n",
       "      <td>USA (MA)</td>\n",
       "    </tr>\n",
       "    <tr>\n",
       "      <td>4</td>\n",
       "      <td>23</td>\n",
       "      <td>11333</td>\n",
       "      <td>Barbaresco,Costa Russi,Angelo Gaja</td>\n",
       "      <td>2009</td>\n",
       "      <td>750ml</td>\n",
       "      <td>https://www.wine-searcher.com/find/barbaresco+...</td>\n",
       "      <td>379.00</td>\n",
       "      <td>The Old &amp; Rare Wine Company</td>\n",
       "      <td>Angelo Gaja Costa Russi Langhe2009</td>\n",
       "      <td>USA (CA)</td>\n",
       "    </tr>\n",
       "  </tbody>\n",
       "</table>\n",
       "</div>"
      ],
      "text/plain": [
       "   Unnamed: 0    SKU                         DESCRIPTION  YEAR CAPACITY  \\\n",
       "0           2  11331              Barbaresco,Angelo Gaja  1990    750ml   \n",
       "1           6  11332              Barbaresco,Angelo Gaja  2010    750ml   \n",
       "2          18  11333  Barbaresco,Costa Russi,Angelo Gaja  2009    750ml   \n",
       "3          22  11333  Barbaresco,Costa Russi,Angelo Gaja  2009    750ml   \n",
       "4          23  11333  Barbaresco,Costa Russi,Angelo Gaja  2009    750ml   \n",
       "\n",
       "                                                 URL   PRICE  \\\n",
       "0  https://www.wine-searcher.com/find/barbaresco+...  329.00   \n",
       "1  https://www.wine-searcher.com/find/barbaresco+...  175.00   \n",
       "2  https://www.wine-searcher.com/find/barbaresco+...  304.00   \n",
       "3  https://www.wine-searcher.com/find/barbaresco+...  359.99   \n",
       "4  https://www.wine-searcher.com/find/barbaresco+...  379.00   \n",
       "\n",
       "            SELLER_INFORMATION                         OFFER_DESCRIPTION  \\\n",
       "0          The Redd Collection                1990Barbaresco,Angelo Gaja   \n",
       "1          The Redd Collection                2010Barbaresco,Angelo Gaja   \n",
       "2          The Redd Collection    2009Barbaresco,Costa Russi,Angelo Gaja   \n",
       "3          Lynnway Liquor Mart  Gaja Costa Russi Barbaresco20092009750ml   \n",
       "4  The Old & Rare Wine Company        Angelo Gaja Costa Russi Langhe2009   \n",
       "\n",
       "    COUNTRY  \n",
       "0  USA (CA)  \n",
       "1  USA (CA)  \n",
       "2  USA (CA)  \n",
       "3  USA (MA)  \n",
       "4  USA (CA)  "
      ]
     },
     "execution_count": 16,
     "metadata": {},
     "output_type": "execute_result"
    }
   ],
   "source": [
    "df.head()"
   ]
  },
  {
   "cell_type": "code",
   "execution_count": 17,
   "metadata": {},
   "outputs": [
    {
     "data": {
      "text/plain": [
       "array([11331, 11332, 11333, 11334, 11335, 11336, 11337, 11338, 11339,\n",
       "       11340, 11341, 11342, 11343, 11344, 11345, 11346, 11347, 11348,\n",
       "       11349, 11350, 11351, 11352, 11353, 11354, 11355, 11356, 11357,\n",
       "       11358, 11359, 11360, 11361, 11362, 11363, 11364, 11365, 11366,\n",
       "       11367, 11368, 11369, 11370, 11371, 11372, 11373, 11374, 11376,\n",
       "       11377, 11378, 11379, 11380, 11381, 11382, 11383, 11384, 11385,\n",
       "       11386, 11388, 11389, 11390, 11391, 11392, 11393, 11394, 11395,\n",
       "       11397, 11398, 11399, 11400, 11401, 11402, 11403, 11404, 11405,\n",
       "       11406, 11407, 11408, 11409, 11410, 11411, 11412, 11413, 11414,\n",
       "       11415, 11416, 11417, 11418, 11419, 11420, 11421, 11422, 11423,\n",
       "       11424, 11425, 11426, 11427, 11428, 11429, 11430, 11431, 11432,\n",
       "       11433, 11434, 11435, 11436, 11437, 11438, 11439, 11440, 11441,\n",
       "       11442, 11444, 11445, 11446, 11448, 11449, 11451, 11452, 11453,\n",
       "       11454, 11455, 11456, 11458, 11459, 11460, 11461, 11462, 11463,\n",
       "       11464, 11465, 11466, 11467, 11468, 11469, 11470, 11471, 11472,\n",
       "       11473, 11476, 11477, 11478, 11479, 11480, 11481, 11482, 11483,\n",
       "       11484, 11485, 11486, 11487, 11488, 11489, 11491, 11492, 11493,\n",
       "       11494, 11495, 11496, 11497, 11498, 11499, 11500, 11501, 11502,\n",
       "       11503, 11505, 11506, 11507, 11508, 11509, 11510, 11511, 11512,\n",
       "       11513, 11514, 11515, 11516, 11517, 11518, 11519, 11520, 11522,\n",
       "       11523, 11524, 11525, 11526, 11527, 11528, 11529, 11530, 11531,\n",
       "       11532, 11533, 11534, 11535, 11536, 11537, 11539, 11540, 11541,\n",
       "       11542, 11543, 11544, 11545, 11546, 11547, 11548, 11549, 11550,\n",
       "       11551, 11552, 11553, 11554, 11555, 11556, 11557, 11559, 11560,\n",
       "       11561, 11562, 11563, 11564, 11565, 11566, 11567, 11568, 11570,\n",
       "       11571, 11572, 11573, 11574, 11575, 11576, 11577, 11578, 11579,\n",
       "       11580, 11581, 11582, 11583, 11584, 11585, 11586, 11587, 11588,\n",
       "       11589, 11590, 11592, 11593, 11594, 11595, 11596, 11597, 11598,\n",
       "       11599, 11600, 11601, 11602, 11603, 11604, 11605, 11606, 11607,\n",
       "       11608, 11609, 11610, 11611, 11612, 11613, 11614, 11615, 11616,\n",
       "       11617, 11618, 11619, 11620, 11621, 11622, 11624, 11625],\n",
       "      dtype=int64)"
      ]
     },
     "execution_count": 17,
     "metadata": {},
     "output_type": "execute_result"
    }
   ],
   "source": [
    "df['SKU'].unique()"
   ]
  },
  {
   "cell_type": "code",
   "execution_count": 18,
   "metadata": {},
   "outputs": [
    {
     "data": {
      "text/plain": [
       "278"
      ]
     },
     "execution_count": 18,
     "metadata": {},
     "output_type": "execute_result"
    }
   ],
   "source": [
    "df['SKU'].nunique()"
   ]
  },
  {
   "cell_type": "code",
   "execution_count": 19,
   "metadata": {},
   "outputs": [],
   "source": [
    "df_minprice =df.groupby('SKU').min()['PRICE']"
   ]
  },
  {
   "cell_type": "code",
   "execution_count": 20,
   "metadata": {},
   "outputs": [],
   "source": [
    "df1 = df.groupby(\"SKU\").apply(lambda x: x.nsmallest(2,'PRICE'))"
   ]
  },
  {
   "cell_type": "code",
   "execution_count": 21,
   "metadata": {},
   "outputs": [
    {
     "data": {
      "text/html": [
       "<div>\n",
       "<style scoped>\n",
       "    .dataframe tbody tr th:only-of-type {\n",
       "        vertical-align: middle;\n",
       "    }\n",
       "\n",
       "    .dataframe tbody tr th {\n",
       "        vertical-align: top;\n",
       "    }\n",
       "\n",
       "    .dataframe thead th {\n",
       "        text-align: right;\n",
       "    }\n",
       "</style>\n",
       "<table border=\"1\" class=\"dataframe\">\n",
       "  <thead>\n",
       "    <tr style=\"text-align: right;\">\n",
       "      <th></th>\n",
       "      <th></th>\n",
       "      <th>Unnamed: 0</th>\n",
       "      <th>SKU</th>\n",
       "      <th>DESCRIPTION</th>\n",
       "      <th>YEAR</th>\n",
       "      <th>CAPACITY</th>\n",
       "      <th>URL</th>\n",
       "      <th>PRICE</th>\n",
       "      <th>SELLER_INFORMATION</th>\n",
       "      <th>OFFER_DESCRIPTION</th>\n",
       "      <th>COUNTRY</th>\n",
       "    </tr>\n",
       "    <tr>\n",
       "      <th>SKU</th>\n",
       "      <th></th>\n",
       "      <th></th>\n",
       "      <th></th>\n",
       "      <th></th>\n",
       "      <th></th>\n",
       "      <th></th>\n",
       "      <th></th>\n",
       "      <th></th>\n",
       "      <th></th>\n",
       "      <th></th>\n",
       "      <th></th>\n",
       "    </tr>\n",
       "  </thead>\n",
       "  <tbody>\n",
       "    <tr>\n",
       "      <td>11332</td>\n",
       "      <td>1</td>\n",
       "      <td>6</td>\n",
       "      <td>11332</td>\n",
       "      <td>Barbaresco,Angelo Gaja</td>\n",
       "      <td>2010</td>\n",
       "      <td>750ml</td>\n",
       "      <td>https://www.wine-searcher.com/find/barbaresco+...</td>\n",
       "      <td>175.00</td>\n",
       "      <td>The Redd Collection</td>\n",
       "      <td>2010Barbaresco,Angelo Gaja</td>\n",
       "      <td>USA (CA)</td>\n",
       "    </tr>\n",
       "    <tr>\n",
       "      <td rowspan=\"2\" valign=\"top\">11333</td>\n",
       "      <td>2</td>\n",
       "      <td>18</td>\n",
       "      <td>11333</td>\n",
       "      <td>Barbaresco,Costa Russi,Angelo Gaja</td>\n",
       "      <td>2009</td>\n",
       "      <td>750ml</td>\n",
       "      <td>https://www.wine-searcher.com/find/barbaresco+...</td>\n",
       "      <td>304.00</td>\n",
       "      <td>The Redd Collection</td>\n",
       "      <td>2009Barbaresco,Costa Russi,Angelo Gaja</td>\n",
       "      <td>USA (CA)</td>\n",
       "    </tr>\n",
       "    <tr>\n",
       "      <td>3</td>\n",
       "      <td>22</td>\n",
       "      <td>11333</td>\n",
       "      <td>Barbaresco,Costa Russi,Angelo Gaja</td>\n",
       "      <td>2009</td>\n",
       "      <td>750ml</td>\n",
       "      <td>https://www.wine-searcher.com/find/barbaresco+...</td>\n",
       "      <td>359.99</td>\n",
       "      <td>Lynnway Liquor Mart</td>\n",
       "      <td>Gaja Costa Russi Barbaresco20092009750ml</td>\n",
       "      <td>USA (MA)</td>\n",
       "    </tr>\n",
       "    <tr>\n",
       "      <td rowspan=\"2\" valign=\"top\">11334</td>\n",
       "      <td>8</td>\n",
       "      <td>36</td>\n",
       "      <td>11334</td>\n",
       "      <td>Barbaresco,Sori San Lorenzo,Angelo Gaja</td>\n",
       "      <td>2000</td>\n",
       "      <td>750ml</td>\n",
       "      <td>https://www.wine-searcher.com/find/barbaresco+...</td>\n",
       "      <td>329.00</td>\n",
       "      <td>IronGate.Wine</td>\n",
       "      <td>2000Gaja Sori San Lorenzo-750mL</td>\n",
       "      <td>USA (NY)</td>\n",
       "    </tr>\n",
       "    <tr>\n",
       "      <td>9</td>\n",
       "      <td>37</td>\n",
       "      <td>11334</td>\n",
       "      <td>Barbaresco,Sori San Lorenzo,Angelo Gaja</td>\n",
       "      <td>2000</td>\n",
       "      <td>750ml</td>\n",
       "      <td>https://www.wine-searcher.com/find/barbaresco+...</td>\n",
       "      <td>339.00</td>\n",
       "      <td>SommPicks</td>\n",
       "      <td>2000Gaja Langhe Nebbiolo Sori San Lorenzo</td>\n",
       "      <td>USA (CA)</td>\n",
       "    </tr>\n",
       "    <tr>\n",
       "      <td rowspan=\"2\" valign=\"top\">11335</td>\n",
       "      <td>16</td>\n",
       "      <td>52</td>\n",
       "      <td>11335</td>\n",
       "      <td>Barbaresco,Sori Tildin,Angelo Gaja</td>\n",
       "      <td>2009</td>\n",
       "      <td>750ml</td>\n",
       "      <td>https://www.wine-searcher.com/find/barbaresco+...</td>\n",
       "      <td>304.00</td>\n",
       "      <td>The Redd Collection</td>\n",
       "      <td>2009Barbaresco,Sori Tildin,Angelo Gaja</td>\n",
       "      <td>USA (CA)</td>\n",
       "    </tr>\n",
       "    <tr>\n",
       "      <td>17</td>\n",
       "      <td>53</td>\n",
       "      <td>11335</td>\n",
       "      <td>Barbaresco,Sori Tildin,Angelo Gaja</td>\n",
       "      <td>2009</td>\n",
       "      <td>750ml</td>\n",
       "      <td>https://www.wine-searcher.com/find/barbaresco+...</td>\n",
       "      <td>315.00</td>\n",
       "      <td>Westgarth Wines</td>\n",
       "      <td>2009Gaja,Sori Tildin</td>\n",
       "      <td>USA (CA)</td>\n",
       "    </tr>\n",
       "    <tr>\n",
       "      <td rowspan=\"2\" valign=\"top\">11336</td>\n",
       "      <td>21</td>\n",
       "      <td>68</td>\n",
       "      <td>11336</td>\n",
       "      <td>Barbaresco,Sori Tildin,Angelo Gaja</td>\n",
       "      <td>2010</td>\n",
       "      <td>1.5L</td>\n",
       "      <td>https://www.wine-searcher.com/find/barbaresco+...</td>\n",
       "      <td>334.00</td>\n",
       "      <td>Yankee Spirits</td>\n",
       "      <td>GAJASORITILDINLANGHEBARBARESCO2010</td>\n",
       "      <td>USA (MA)</td>\n",
       "    </tr>\n",
       "    <tr>\n",
       "      <td>22</td>\n",
       "      <td>69</td>\n",
       "      <td>11336</td>\n",
       "      <td>Barbaresco,Sori Tildin,Angelo Gaja</td>\n",
       "      <td>2010</td>\n",
       "      <td>1.5L</td>\n",
       "      <td>https://www.wine-searcher.com/find/barbaresco+...</td>\n",
       "      <td>364.99</td>\n",
       "      <td>Stirling Fine Wines</td>\n",
       "      <td>Gaja Sori Tildin2010,Piedmont,Langhe</td>\n",
       "      <td>USA (NJ)</td>\n",
       "    </tr>\n",
       "    <tr>\n",
       "      <td rowspan=\"2\" valign=\"top\">11337</td>\n",
       "      <td>32</td>\n",
       "      <td>103</td>\n",
       "      <td>11337</td>\n",
       "      <td>Barbaresco,Sori Tildin,Angelo Gaja</td>\n",
       "      <td>2010</td>\n",
       "      <td>750ml</td>\n",
       "      <td>https://www.wine-searcher.com/find/barbaresco+...</td>\n",
       "      <td>334.00</td>\n",
       "      <td>Yankee Spirits</td>\n",
       "      <td>GAJASORITILDINLANGHEBARBARESCO2010</td>\n",
       "      <td>USA (MA)</td>\n",
       "    </tr>\n",
       "    <tr>\n",
       "      <td>33</td>\n",
       "      <td>104</td>\n",
       "      <td>11337</td>\n",
       "      <td>Barbaresco,Sori Tildin,Angelo Gaja</td>\n",
       "      <td>2010</td>\n",
       "      <td>750ml</td>\n",
       "      <td>https://www.wine-searcher.com/find/barbaresco+...</td>\n",
       "      <td>364.99</td>\n",
       "      <td>Stirling Fine Wines</td>\n",
       "      <td>Gaja Sori Tildin2010,Piedmont,Langhe</td>\n",
       "      <td>USA (NJ)</td>\n",
       "    </tr>\n",
       "    <tr>\n",
       "      <td rowspan=\"2\" valign=\"top\">11338</td>\n",
       "      <td>43</td>\n",
       "      <td>137</td>\n",
       "      <td>11338</td>\n",
       "      <td>Barolo Bussia Colonnello,Aldo Conterno</td>\n",
       "      <td>1989</td>\n",
       "      <td>750ml</td>\n",
       "      <td>https://www.wine-searcher.com/find/barolo+buss...</td>\n",
       "      <td>156.00</td>\n",
       "      <td>Spectrum Wine Auctions</td>\n",
       "      <td>[lot78355]Aldo Conterno Barolo Bricco Bussia V...</td>\n",
       "      <td>USA (CA)</td>\n",
       "    </tr>\n",
       "    <tr>\n",
       "      <td>44</td>\n",
       "      <td>140</td>\n",
       "      <td>11338</td>\n",
       "      <td>Barolo Bussia Colonnello,Aldo Conterno</td>\n",
       "      <td>1989</td>\n",
       "      <td>750ml</td>\n",
       "      <td>https://www.wine-searcher.com/find/barolo+buss...</td>\n",
       "      <td>278.00</td>\n",
       "      <td>The Redd Collection</td>\n",
       "      <td>1989Barolo Bussia Colonnello,Aldo Conterno</td>\n",
       "      <td>USA (CA)</td>\n",
       "    </tr>\n",
       "    <tr>\n",
       "      <td>11339</td>\n",
       "      <td>46</td>\n",
       "      <td>142</td>\n",
       "      <td>11339</td>\n",
       "      <td>Barolo Bussia Colonnello,Aldo Conterno</td>\n",
       "      <td>1990</td>\n",
       "      <td>750ml</td>\n",
       "      <td>https://www.wine-searcher.com/find/barolo+buss...</td>\n",
       "      <td>266.00</td>\n",
       "      <td>The Redd Collection</td>\n",
       "      <td>1990Barolo Bussia Colonnello,Aldo Conterno</td>\n",
       "      <td>USA (CA)</td>\n",
       "    </tr>\n",
       "  </tbody>\n",
       "</table>\n",
       "</div>"
      ],
      "text/plain": [
       "          Unnamed: 0    SKU                              DESCRIPTION  YEAR  \\\n",
       "SKU                                                                          \n",
       "11332 1            6  11332                   Barbaresco,Angelo Gaja  2010   \n",
       "11333 2           18  11333       Barbaresco,Costa Russi,Angelo Gaja  2009   \n",
       "      3           22  11333       Barbaresco,Costa Russi,Angelo Gaja  2009   \n",
       "11334 8           36  11334  Barbaresco,Sori San Lorenzo,Angelo Gaja  2000   \n",
       "      9           37  11334  Barbaresco,Sori San Lorenzo,Angelo Gaja  2000   \n",
       "11335 16          52  11335       Barbaresco,Sori Tildin,Angelo Gaja  2009   \n",
       "      17          53  11335       Barbaresco,Sori Tildin,Angelo Gaja  2009   \n",
       "11336 21          68  11336       Barbaresco,Sori Tildin,Angelo Gaja  2010   \n",
       "      22          69  11336       Barbaresco,Sori Tildin,Angelo Gaja  2010   \n",
       "11337 32         103  11337       Barbaresco,Sori Tildin,Angelo Gaja  2010   \n",
       "      33         104  11337       Barbaresco,Sori Tildin,Angelo Gaja  2010   \n",
       "11338 43         137  11338   Barolo Bussia Colonnello,Aldo Conterno  1989   \n",
       "      44         140  11338   Barolo Bussia Colonnello,Aldo Conterno  1989   \n",
       "11339 46         142  11339   Barolo Bussia Colonnello,Aldo Conterno  1990   \n",
       "\n",
       "         CAPACITY                                                URL   PRICE  \\\n",
       "SKU                                                                            \n",
       "11332 1     750ml  https://www.wine-searcher.com/find/barbaresco+...  175.00   \n",
       "11333 2     750ml  https://www.wine-searcher.com/find/barbaresco+...  304.00   \n",
       "      3     750ml  https://www.wine-searcher.com/find/barbaresco+...  359.99   \n",
       "11334 8     750ml  https://www.wine-searcher.com/find/barbaresco+...  329.00   \n",
       "      9     750ml  https://www.wine-searcher.com/find/barbaresco+...  339.00   \n",
       "11335 16    750ml  https://www.wine-searcher.com/find/barbaresco+...  304.00   \n",
       "      17    750ml  https://www.wine-searcher.com/find/barbaresco+...  315.00   \n",
       "11336 21     1.5L  https://www.wine-searcher.com/find/barbaresco+...  334.00   \n",
       "      22     1.5L  https://www.wine-searcher.com/find/barbaresco+...  364.99   \n",
       "11337 32    750ml  https://www.wine-searcher.com/find/barbaresco+...  334.00   \n",
       "      33    750ml  https://www.wine-searcher.com/find/barbaresco+...  364.99   \n",
       "11338 43    750ml  https://www.wine-searcher.com/find/barolo+buss...  156.00   \n",
       "      44    750ml  https://www.wine-searcher.com/find/barolo+buss...  278.00   \n",
       "11339 46    750ml  https://www.wine-searcher.com/find/barolo+buss...  266.00   \n",
       "\n",
       "              SELLER_INFORMATION  \\\n",
       "SKU                                \n",
       "11332 1      The Redd Collection   \n",
       "11333 2      The Redd Collection   \n",
       "      3      Lynnway Liquor Mart   \n",
       "11334 8            IronGate.Wine   \n",
       "      9                SommPicks   \n",
       "11335 16     The Redd Collection   \n",
       "      17         Westgarth Wines   \n",
       "11336 21          Yankee Spirits   \n",
       "      22     Stirling Fine Wines   \n",
       "11337 32          Yankee Spirits   \n",
       "      33     Stirling Fine Wines   \n",
       "11338 43  Spectrum Wine Auctions   \n",
       "      44     The Redd Collection   \n",
       "11339 46     The Redd Collection   \n",
       "\n",
       "                                          OFFER_DESCRIPTION   COUNTRY  \n",
       "SKU                                                                    \n",
       "11332 1                          2010Barbaresco,Angelo Gaja  USA (CA)  \n",
       "11333 2              2009Barbaresco,Costa Russi,Angelo Gaja  USA (CA)  \n",
       "      3            Gaja Costa Russi Barbaresco20092009750ml  USA (MA)  \n",
       "11334 8                     2000Gaja Sori San Lorenzo-750mL  USA (NY)  \n",
       "      9           2000Gaja Langhe Nebbiolo Sori San Lorenzo  USA (CA)  \n",
       "11335 16             2009Barbaresco,Sori Tildin,Angelo Gaja  USA (CA)  \n",
       "      17                               2009Gaja,Sori Tildin  USA (CA)  \n",
       "11336 21                 GAJASORITILDINLANGHEBARBARESCO2010  USA (MA)  \n",
       "      22               Gaja Sori Tildin2010,Piedmont,Langhe  USA (NJ)  \n",
       "11337 32                 GAJASORITILDINLANGHEBARBARESCO2010  USA (MA)  \n",
       "      33               Gaja Sori Tildin2010,Piedmont,Langhe  USA (NJ)  \n",
       "11338 43  [lot78355]Aldo Conterno Barolo Bricco Bussia V...  USA (CA)  \n",
       "      44         1989Barolo Bussia Colonnello,Aldo Conterno  USA (CA)  \n",
       "11339 46         1990Barolo Bussia Colonnello,Aldo Conterno  USA (CA)  "
      ]
     },
     "execution_count": 21,
     "metadata": {},
     "output_type": "execute_result"
    }
   ],
   "source": [
    "df1[1:15]"
   ]
  },
  {
   "cell_type": "code",
   "execution_count": 22,
   "metadata": {},
   "outputs": [
    {
     "name": "stderr",
     "output_type": "stream",
     "text": [
      "D:\\anaconda\\lib\\site-packages\\pandas\\core\\indexing.py:910: FutureWarning: \n",
      "Passing list-likes to .loc or [] with any missing label will raise\n",
      "KeyError in the future, you can use .reindex() as an alternative.\n",
      "\n",
      "See the documentation here:\n",
      "https://pandas.pydata.org/pandas-docs/stable/user_guide/indexing.html#deprecate-loc-reindex-listlike\n",
      "  return self._getitem_nested_tuple(tup)\n"
     ]
    }
   ],
   "source": [
    "df2 = df1.loc[:, ['SUK','PRICE']]"
   ]
  },
  {
   "cell_type": "code",
   "execution_count": 23,
   "metadata": {},
   "outputs": [],
   "source": [
    "df2 = df2.drop(['SUK'],axis=1)"
   ]
  },
  {
   "cell_type": "code",
   "execution_count": 24,
   "metadata": {},
   "outputs": [],
   "source": [
    "df_secminprice =df2.groupby('SKU').max()['PRICE']"
   ]
  },
  {
   "cell_type": "code",
   "execution_count": 25,
   "metadata": {},
   "outputs": [
    {
     "data": {
      "text/plain": [
       "SKU\n",
       "11331    329.00\n",
       "11332    175.00\n",
       "11333    359.99\n",
       "11334    339.00\n",
       "11335    315.00\n",
       "Name: PRICE, dtype: float64"
      ]
     },
     "execution_count": 25,
     "metadata": {},
     "output_type": "execute_result"
    }
   ],
   "source": [
    "df_secminprice.head()"
   ]
  },
  {
   "cell_type": "code",
   "execution_count": 26,
   "metadata": {},
   "outputs": [
    {
     "data": {
      "text/plain": [
       "SKU\n",
       "11331    329.0\n",
       "11332    175.0\n",
       "11333    304.0\n",
       "11334    329.0\n",
       "11335    304.0\n",
       "Name: PRICE, dtype: float64"
      ]
     },
     "execution_count": 26,
     "metadata": {},
     "output_type": "execute_result"
    }
   ],
   "source": [
    "df_minprice.head()"
   ]
  },
  {
   "cell_type": "code",
   "execution_count": 27,
   "metadata": {},
   "outputs": [],
   "source": [
    "df4 = df_secminprice.to_frame(\"SECOND_MINIMUM_PRICE\")[\"SECOND_MINIMUM_PRICE\"]"
   ]
  },
  {
   "cell_type": "code",
   "execution_count": 28,
   "metadata": {},
   "outputs": [],
   "source": [
    "df3 = df_minprice.to_frame(\"FIRST_MINIMUM_PRICE\")[\"FIRST_MINIMUM_PRICE\"]"
   ]
  },
  {
   "cell_type": "code",
   "execution_count": 29,
   "metadata": {},
   "outputs": [],
   "source": [
    "df_final = pd.concat([df3,df4], axis=1)"
   ]
  },
  {
   "cell_type": "code",
   "execution_count": 30,
   "metadata": {},
   "outputs": [],
   "source": [
    "df_final = df_final[df_final['FIRST_MINIMUM_PRICE'] != df_final['SECOND_MINIMUM_PRICE']]\n",
    "# df5 = df_final.drop_duplicates(subset=['FIRST_MINIMUM_PRICE','SECOND_MINIMUM_PRICE'])"
   ]
  },
  {
   "cell_type": "code",
   "execution_count": 32,
   "metadata": {},
   "outputs": [
    {
     "data": {
      "text/html": [
       "<div>\n",
       "<style scoped>\n",
       "    .dataframe tbody tr th:only-of-type {\n",
       "        vertical-align: middle;\n",
       "    }\n",
       "\n",
       "    .dataframe tbody tr th {\n",
       "        vertical-align: top;\n",
       "    }\n",
       "\n",
       "    .dataframe thead th {\n",
       "        text-align: right;\n",
       "    }\n",
       "</style>\n",
       "<table border=\"1\" class=\"dataframe\">\n",
       "  <thead>\n",
       "    <tr style=\"text-align: right;\">\n",
       "      <th></th>\n",
       "      <th>FIRST_MINIMUM_PRICE</th>\n",
       "      <th>SECOND_MINIMUM_PRICE</th>\n",
       "    </tr>\n",
       "    <tr>\n",
       "      <th>SKU</th>\n",
       "      <th></th>\n",
       "      <th></th>\n",
       "    </tr>\n",
       "  </thead>\n",
       "  <tbody>\n",
       "    <tr>\n",
       "      <td>11333</td>\n",
       "      <td>304.0</td>\n",
       "      <td>359.99</td>\n",
       "    </tr>\n",
       "    <tr>\n",
       "      <td>11334</td>\n",
       "      <td>329.0</td>\n",
       "      <td>339.00</td>\n",
       "    </tr>\n",
       "    <tr>\n",
       "      <td>11335</td>\n",
       "      <td>304.0</td>\n",
       "      <td>315.00</td>\n",
       "    </tr>\n",
       "    <tr>\n",
       "      <td>11336</td>\n",
       "      <td>334.0</td>\n",
       "      <td>364.99</td>\n",
       "    </tr>\n",
       "    <tr>\n",
       "      <td>11337</td>\n",
       "      <td>334.0</td>\n",
       "      <td>364.99</td>\n",
       "    </tr>\n",
       "  </tbody>\n",
       "</table>\n",
       "</div>"
      ],
      "text/plain": [
       "       FIRST_MINIMUM_PRICE  SECOND_MINIMUM_PRICE\n",
       "SKU                                             \n",
       "11333                304.0                359.99\n",
       "11334                329.0                339.00\n",
       "11335                304.0                315.00\n",
       "11336                334.0                364.99\n",
       "11337                334.0                364.99"
      ]
     },
     "execution_count": 32,
     "metadata": {},
     "output_type": "execute_result"
    }
   ],
   "source": [
    "df_final.head()"
   ]
  },
  {
   "cell_type": "code",
   "execution_count": 33,
   "metadata": {},
   "outputs": [],
   "source": [
    "df_final.to_csv('output/lowestPrice.csv')"
   ]
  },
  {
   "cell_type": "code",
   "execution_count": null,
   "metadata": {},
   "outputs": [],
   "source": []
  }
 ],
 "metadata": {
  "kernelspec": {
   "display_name": "Python 3",
   "language": "python",
   "name": "python3"
  },
  "language_info": {
   "codemirror_mode": {
    "name": "ipython",
    "version": 3
   },
   "file_extension": ".py",
   "mimetype": "text/x-python",
   "name": "python",
   "nbconvert_exporter": "python",
   "pygments_lexer": "ipython3",
   "version": "3.7.4"
  }
 },
 "nbformat": 4,
 "nbformat_minor": 2
}
